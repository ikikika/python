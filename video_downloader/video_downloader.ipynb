{
  "nbformat": 4,
  "nbformat_minor": 0,
  "metadata": {
    "colab": {
      "name": "video_downloader.ipynb",
      "provenance": [],
      "include_colab_link": true
    },
    "kernelspec": {
      "name": "python3",
      "display_name": "Python 3"
    }
  },
  "cells": [
    {
      "cell_type": "markdown",
      "metadata": {
        "id": "view-in-github",
        "colab_type": "text"
      },
      "source": [
        "<a href=\"https://colab.research.google.com/github/ikikika/python/blob/video_downloader/video_downloader/video_downloader.ipynb\" target=\"_parent\"><img src=\"https://colab.research.google.com/assets/colab-badge.svg\" alt=\"Open In Colab\"/></a>"
      ]
    },
    {
      "cell_type": "code",
      "metadata": {
        "id": "_qTgMGE5evh1",
        "colab_type": "code",
        "colab": {
          "base_uri": "https://localhost:8080/",
          "height": 51
        },
        "outputId": "8d3d31b0-f4d6-4db2-fd6c-60e75e8556ba"
      },
      "source": [
        "pip install m3u8"
      ],
      "execution_count": 2,
      "outputs": [
        {
          "output_type": "stream",
          "text": [
            "Requirement already satisfied: m3u8 in /usr/local/lib/python3.6/dist-packages (0.7.1)\n",
            "Requirement already satisfied: iso8601 in /usr/local/lib/python3.6/dist-packages (from m3u8) (0.1.12)\n"
          ],
          "name": "stdout"
        }
      ]
    },
    {
      "cell_type": "code",
      "metadata": {
        "id": "2WKELckx9W4A",
        "colab_type": "code",
        "colab": {}
      },
      "source": [
        "import m3u8\n",
        "import requests"
      ],
      "execution_count": 3,
      "outputs": []
    },
    {
      "cell_type": "code",
      "metadata": {
        "id": "XqurEYIq7rwW",
        "colab_type": "code",
        "colab": {}
      },
      "source": [
        "url = \"https://secure.brightcove.com/services/mobile/streaming/index/rendition.m3u8?assetId=5648586936001&secure=true&pubId=767545511001&videoId=5648585288001\""
      ],
      "execution_count": 44,
      "outputs": []
    },
    {
      "cell_type": "code",
      "metadata": {
        "id": "X_aEDEY49Z62",
        "colab_type": "code",
        "colab": {}
      },
      "source": [
        "r = requests.get(url)"
      ],
      "execution_count": 45,
      "outputs": []
    },
    {
      "cell_type": "code",
      "metadata": {
        "id": "hApZVgUI7zOm",
        "colab_type": "code",
        "colab": {}
      },
      "source": [
        "# print(r.text)"
      ],
      "execution_count": 40,
      "outputs": []
    },
    {
      "cell_type": "code",
      "metadata": {
        "id": "uDC8CJkNe8et",
        "colab_type": "code",
        "colab": {}
      },
      "source": [
        "# m3u8_master = m3u8.loads(r.text)"
      ],
      "execution_count": 49,
      "outputs": []
    },
    {
      "cell_type": "code",
      "metadata": {
        "id": "gGDrBOx5Cehi",
        "colab_type": "code",
        "colab": {}
      },
      "source": [
        "# m3u8_master.data\n",
        "# Get playlist according to resolution. if playlist is [], url provided is the only playlist"
      ],
      "execution_count": 48,
      "outputs": []
    },
    {
      "cell_type": "code",
      "metadata": {
        "id": "mZ4c_heh9ciY",
        "colab_type": "code",
        "colab": {}
      },
      "source": [
        "# playlist_url = m3u8_master.data['playlists'][0]['uri']"
      ],
      "execution_count": 12,
      "outputs": []
    },
    {
      "cell_type": "code",
      "metadata": {
        "id": "NfcMEnlLfDZb",
        "colab_type": "code",
        "colab": {}
      },
      "source": [
        "# r = requests.get(playlist_url)"
      ],
      "execution_count": 31,
      "outputs": []
    },
    {
      "cell_type": "code",
      "metadata": {
        "id": "JXE16F8LfIOO",
        "colab_type": "code",
        "colab": {}
      },
      "source": [
        "playlist = m3u8.loads(r.text)"
      ],
      "execution_count": 32,
      "outputs": []
    },
    {
      "cell_type": "code",
      "metadata": {
        "id": "wENaWEzefjBo",
        "colab_type": "code",
        "colab": {}
      },
      "source": [
        "with open('vid1.ts', 'wb') as f:\n",
        "  for segment in playlist.data['segments']:\n",
        "    url = segment['uri']\n",
        "    r = requests.get(url)\n",
        "    f.write(r.content)"
      ],
      "execution_count": 33,
      "outputs": []
    },
    {
      "cell_type": "code",
      "metadata": {
        "id": "MxEj4QI8hAmY",
        "colab_type": "code",
        "colab": {}
      },
      "source": [
        "import subprocess"
      ],
      "execution_count": 34,
      "outputs": []
    },
    {
      "cell_type": "code",
      "metadata": {
        "id": "xOvigIqzhDVs",
        "colab_type": "code",
        "colab": {
          "base_uri": "https://localhost:8080/",
          "height": 34
        },
        "outputId": "a8afeadd-1b61-4fa9-bac6-cff50337ea39"
      },
      "source": [
        "subprocess.run(['ffmpeg', '-i', 'vid1.ts', 'vid1.mp4'])"
      ],
      "execution_count": 35,
      "outputs": [
        {
          "output_type": "execute_result",
          "data": {
            "text/plain": [
              "CompletedProcess(args=['ffmpeg', '-i', 'vid1.ts', 'vid1.mp4'], returncode=0)"
            ]
          },
          "metadata": {
            "tags": []
          },
          "execution_count": 35
        }
      ]
    }
  ]
}
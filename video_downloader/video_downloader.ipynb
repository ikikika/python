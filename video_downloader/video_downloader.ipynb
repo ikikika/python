{
  "nbformat": 4,
  "nbformat_minor": 0,
  "metadata": {
    "colab": {
      "name": "video_downloader.ipynb",
      "provenance": [],
      "authorship_tag": "ABX9TyNzcSWQmMLF9XKxg6H++ZXM",
      "include_colab_link": true
    },
    "kernelspec": {
      "name": "python3",
      "display_name": "Python 3"
    }
  },
  "cells": [
    {
      "cell_type": "markdown",
      "metadata": {
        "id": "view-in-github",
        "colab_type": "text"
      },
      "source": [
        "<a href=\"https://colab.research.google.com/github/ikikika/python/blob/video_downloader/video_downloader/video_downloader.ipynb\" target=\"_parent\"><img src=\"https://colab.research.google.com/assets/colab-badge.svg\" alt=\"Open In Colab\"/></a>"
      ]
    },
    {
      "cell_type": "code",
      "metadata": {
        "id": "_qTgMGE5evh1",
        "colab_type": "code",
        "colab": {
          "base_uri": "https://localhost:8080/",
          "height": 204
        },
        "outputId": "b8bf3701-5a51-4976-d12d-83855d2f05e8"
      },
      "source": [
        "pip install m3u8"
      ],
      "execution_count": 1,
      "outputs": [
        {
          "output_type": "stream",
          "text": [
            "Collecting m3u8\n",
            "  Downloading https://files.pythonhosted.org/packages/9f/2e/1e89eed1fbd2d5dca9e50aedd8ca3b94f0572976dac8b2b3b45e2c587bb6/m3u8-0.7.1.tar.gz\n",
            "Collecting iso8601\n",
            "  Downloading https://files.pythonhosted.org/packages/ef/57/7162609dab394d38bbc7077b7ba0a6f10fb09d8b7701ea56fa1edc0c4345/iso8601-0.1.12-py2.py3-none-any.whl\n",
            "Building wheels for collected packages: m3u8\n",
            "  Building wheel for m3u8 (setup.py) ... \u001b[?25l\u001b[?25hdone\n",
            "  Created wheel for m3u8: filename=m3u8-0.7.1-cp36-none-any.whl size=21872 sha256=a39e7b6aadc8596c6e49b85bb12ad9edc100af8e0cd854f5b5704aee9d674946\n",
            "  Stored in directory: /root/.cache/pip/wheels/e4/dc/96/299917ff4dd3e3965e89fbf735c7bad401189a27783d66f40f\n",
            "Successfully built m3u8\n",
            "Installing collected packages: iso8601, m3u8\n",
            "Successfully installed iso8601-0.1.12 m3u8-0.7.1\n"
          ],
          "name": "stdout"
        }
      ]
    },
    {
      "cell_type": "code",
      "metadata": {
        "id": "2WKELckx9W4A",
        "colab_type": "code",
        "colab": {}
      },
      "source": [
        "import m3u8\n",
        "import requests"
      ],
      "execution_count": 3,
      "outputs": []
    },
    {
      "cell_type": "code",
      "metadata": {
        "id": "XqurEYIq7rwW",
        "colab_type": "code",
        "colab": {}
      },
      "source": [
        "url = \"https://www.udemy.com/assets/5329782/files/637930/5329782/2016-02-20_21-10-00-cc1f53c5aa652135fbe541226345ec57/1/aa006f2c0695c6827edfd7fd8391650cac6b.m3u8?provider=verizon&v=1\""
      ],
      "execution_count": 4,
      "outputs": []
    },
    {
      "cell_type": "code",
      "metadata": {
        "id": "X_aEDEY49Z62",
        "colab_type": "code",
        "colab": {}
      },
      "source": [
        "r = requests.get(url)"
      ],
      "execution_count": 5,
      "outputs": []
    },
    {
      "cell_type": "code",
      "metadata": {
        "id": "uDC8CJkNe8et",
        "colab_type": "code",
        "colab": {}
      },
      "source": [
        "m3u8_master = m3u8.loads(r.text)"
      ],
      "execution_count": 6,
      "outputs": []
    },
    {
      "cell_type": "code",
      "metadata": {
        "id": "mZ4c_heh9ciY",
        "colab_type": "code",
        "colab": {}
      },
      "source": [
        "playlist_url = m3u8_master.data['playlists'][0]['uri']"
      ],
      "execution_count": 7,
      "outputs": []
    },
    {
      "cell_type": "code",
      "metadata": {
        "id": "NfcMEnlLfDZb",
        "colab_type": "code",
        "colab": {}
      },
      "source": [
        "r = requests.get(playlist_url)"
      ],
      "execution_count": 8,
      "outputs": []
    },
    {
      "cell_type": "code",
      "metadata": {
        "id": "JXE16F8LfIOO",
        "colab_type": "code",
        "colab": {}
      },
      "source": [
        "playlist = m3u8.loads(r.text)"
      ],
      "execution_count": 9,
      "outputs": []
    },
    {
      "cell_type": "code",
      "metadata": {
        "id": "wENaWEzefjBo",
        "colab_type": "code",
        "colab": {}
      },
      "source": [
        "with open('vid1.ts', 'wb') as f:\n",
        "  for segment in playlist.data['segments']:\n",
        "    url = segment['uri']\n",
        "    r = requests.get(url)\n",
        "    f.write(r.content)"
      ],
      "execution_count": 18,
      "outputs": []
    },
    {
      "cell_type": "code",
      "metadata": {
        "id": "MxEj4QI8hAmY",
        "colab_type": "code",
        "colab": {}
      },
      "source": [
        "import subprocess"
      ],
      "execution_count": 19,
      "outputs": []
    },
    {
      "cell_type": "code",
      "metadata": {
        "id": "xOvigIqzhDVs",
        "colab_type": "code",
        "colab": {
          "base_uri": "https://localhost:8080/",
          "height": 34
        },
        "outputId": "4c9a6bcb-d8a7-4311-ee58-818ac3f0fb19"
      },
      "source": [
        "subprocess.run(['ffmpeg', '-i', 'vid1.ts', 'vid1.mp4'])"
      ],
      "execution_count": 20,
      "outputs": [
        {
          "output_type": "execute_result",
          "data": {
            "text/plain": [
              "CompletedProcess(args=['ffmpeg', '-i', 'vid1.ts', 'vid1.mp4'], returncode=0)"
            ]
          },
          "metadata": {
            "tags": []
          },
          "execution_count": 20
        }
      ]
    }
  ]
}